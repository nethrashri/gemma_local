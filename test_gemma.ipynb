{
 "cells": [
  {
   "cell_type": "code",
   "execution_count": 5,
   "id": "afba02c8-e759-46bc-9dca-67d439604efb",
   "metadata": {
    "tags": []
   },
   "outputs": [
    {
     "name": "stderr",
     "output_type": "stream",
     "text": [
      "Device set to use cpu\n"
     ]
    },
    {
     "name": "stdout",
     "output_type": "stream",
     "text": [
      "[{'role': 'user', 'content': 'What is the largest country in the world by land area?'}, {'role': 'assistant', 'content': 'The largest country in the world by land area is **Russia**.'}]\n"
     ]
    }
   ],
   "source": [
    "from huggingface_hub import login\n",
    "login(token=\"hf_HvwYxZhRBAAnSEwWRIAoSyuJkAxcFhNO\")\n",
    "import torch\n",
    "from transformers import AutoTokenizer, AutoModelForCausalLM, pipeline\n",
    "\n",
    "# Disable MPS if available to force CPU usage\n",
    "if torch.backends.mps.is_available():\n",
    "    torch.backends.mps.is_built = lambda: False\n",
    "\n",
    "model_id = \"google/gemma-3-270m-it\"\n",
    "tokenizer = AutoTokenizer.from_pretrained(model_id)\n",
    "model = AutoModelForCausalLM.from_pretrained(\n",
    "    model_id, \n",
    "    torch_dtype=torch.float32,  # Use float32 for compatibility\n",
    "    device_map=\"cpu\"  # Explicitly use CPU\n",
    ")\n",
    "\n",
    "# Don't specify device when using device_map\n",
    "pipe = pipeline(\n",
    "    \"text-generation\",\n",
    "    model=model,\n",
    "    tokenizer=tokenizer\n",
    "    # Remove the device parameter\n",
    ")\n",
    "\n",
    "messages = [\n",
    "    {\"role\": \"user\", \"content\": \"What is the largest country in the world by land area?\"}\n",
    "]\n",
    "\n",
    "outputs = pipe(\n",
    "    messages,\n",
    "    max_new_tokens=256,\n",
    "    disable_compile=True\n",
    ")\n",
    "\n",
    "print(outputs[0]['generated_text'])"
   ]
  },
  {
   "cell_type": "code",
   "execution_count": 6,
   "id": "819b099f-47d8-41a4-b8a2-d7d067caeebc",
   "metadata": {
    "tags": []
   },
   "outputs": [
    {
     "name": "stdout",
     "output_type": "stream",
     "text": [
      "Model found at: /Users/nethrashri/.cache/huggingface/hub/models--google--gemma-3-270m-it\n"
     ]
    }
   ],
   "source": [
    "import os\n",
    "model_path = os.path.expanduser(\"~/.cache/huggingface/hub/models--google--gemma-3-270m-it\")\n",
    "if os.path.exists(model_path):\n",
    "    print(f\"Model found at: {model_path}\")\n",
    "else:\n",
    "    print(\"Model not found at default location\")"
   ]
  },
  {
   "cell_type": "code",
   "execution_count": null,
   "id": "e2822660-8495-439c-a8d4-8e513684b8a4",
   "metadata": {},
   "outputs": [],
   "source": [
    "from huggingface_hub import login\n",
    "login(token=\"hf_HvwYxZhRBAAnSEwWRIAoSyuJkAxNfxO\")\n",
    "\n",
    "import torch\n",
    "from transformers import AutoTokenizer, AutoModelForCausalLM, pipeline\n",
    "import os\n",
    "\n",
    "# Disable MPS if available to force CPU usage\n",
    "if torch.backends.mps.is_available():\n",
    "    torch.backends.mps.is_built = lambda: False\n",
    "\n",
    "model_id = \"google/gemma-3-270m-it\"\n",
    "tokenizer = AutoTokenizer.from_pretrained(model_id)\n",
    "model = AutoModelForCausalLM.from_pretrained(\n",
    "    model_id, \n",
    "    torch_dtype=torch.float32,  # Use float32 for compatibility\n",
    "    device_map=\"cpu\"  # Explicitly use CPU\n",
    ")\n",
    "\n",
    "# Check model path\n",
    "model_path = os.path.expanduser(\"~/.cache/huggingface/hub/models--google--gemma-3-270m-it\")\n",
    "if os.path.exists(model_path):\n",
    "    print(f\"Model found at: {model_path}\")\n",
    "else:\n",
    "    print(\"Model not found at default location\")\n",
    "\n",
    "# Create pipeline\n",
    "pipe = pipeline(\n",
    "    \"text-generation\",\n",
    "    model=model,\n",
    "    tokenizer=tokenizer\n",
    ")\n",
    "\n",
    "messages = [\n",
    "    {\"role\": \"user\", \"content\": \"What is the largest country in the world by land area?\"}\n",
    "]\n",
    "\n",
    "outputs = pipe(\n",
    "    messages,\n",
    "    max_new_tokens=256,\n",
    "    disable_compile=True\n",
    ")\n",
    "\n",
    "print(outputs[0]['generated_text'])"
   ]
  }
 ],
 "metadata": {
  "kernelspec": {
   "display_name": "Python 3 (ipykernel)",
   "language": "python",
   "name": "python3"
  },
  "language_info": {
   "codemirror_mode": {
    "name": "ipython",
    "version": 3
   },
   "file_extension": ".py",
   "mimetype": "text/x-python",
   "name": "python",
   "nbconvert_exporter": "python",
   "pygments_lexer": "ipython3",
   "version": "3.11.5"
  }
 },
 "nbformat": 4,
 "nbformat_minor": 5
}
